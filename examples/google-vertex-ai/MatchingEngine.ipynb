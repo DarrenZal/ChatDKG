{
  "nbformat": 4,
  "nbformat_minor": 0,
  "metadata": {
    "colab": {
      "provenance": []
    },
    "kernelspec": {
      "name": "python3",
      "display_name": "Python 3"
    },
    "language_info": {
      "name": "python"
    }
  },
  "cells": [
    {
      "cell_type": "code",
      "source": [
        "# Following is the tutorial on how to create and deploy a Matching Engine index which will store your data & embeddings\n",
        "# After you deploy the index, you will be able to query it for semantically similar data, to, for example, get answers for a\n",
        "# question, like it was shown on the ChatDKG Office Hours #5"
      ],
      "metadata": {
        "id": "t9mcw7peX_8X"
      },
      "execution_count": null,
      "outputs": []
    },
    {
      "cell_type": "code",
      "execution_count": null,
      "metadata": {
        "id": "QKUit2195qOf"
      },
      "outputs": [],
      "source": [
        "from google.colab import auth\n",
        "auth.authenticate_user() # Authenticate first so you can use the Google Cloud commands\n",
        "\n",
        "PROJECT_ID = \"ot-demo\""
      ]
    },
    {
      "cell_type": "code",
      "source": [
        "!gcloud config set project \"ot-demo\""
      ],
      "metadata": {
        "id": "n1yEjnEG5zFn"
      },
      "execution_count": null,
      "outputs": []
    },
    {
      "cell_type": "code",
      "source": [
        "!pip install google-cloud-aiplatform==1.21.0"
      ],
      "metadata": {
        "id": "H0ew1VrW7YZi"
      },
      "execution_count": null,
      "outputs": []
    },
    {
      "cell_type": "code",
      "source": [
        "from google.cloud import aiplatform\n",
        "from google.protobuf import struct_pb2\n",
        "import time"
      ],
      "metadata": {
        "id": "RCGPVC_m8OYf"
      },
      "execution_count": null,
      "outputs": []
    },
    {
      "cell_type": "code",
      "source": [
        "aiplatform.init(project=\"ot-demo\", location=\"us-central1\")"
      ],
      "metadata": {
        "id": "2QvmdT-q8QMD"
      },
      "execution_count": null,
      "outputs": []
    },
    {
      "cell_type": "code",
      "source": [
        "REGION = \"us-central1\"\n",
        "ENDPOINT = \"{}-aiplatform.googleapis.com\".format(REGION)\n",
        "\n",
        "PARENT = \"projects/{}/locations/{}\".format(PROJECT_ID, REGION)\n",
        "\n",
        "PROJECT_NUMBER = !gcloud projects list --filter=\"PROJECT_ID:'{PROJECT_ID}'\" --format='value(PROJECT_NUMBER)'\n",
        "PROJECT_NUMBER = PROJECT_NUMBER[0]\n",
        "print(PROJECT_NUMBER)"
      ],
      "metadata": {
        "id": "PMLkAboo8W0Y"
      },
      "execution_count": null,
      "outputs": []
    },
    {
      "cell_type": "code",
      "source": [
        "NETWORK_NAME = \"ot-vpc-network\" # This name will be visible in the interface\n",
        "PEERING_RANGE_NAME = \"ot-range\" # This name will be visible in the interface\n",
        "\n",
        "# Below is the setup to create a VPC network for your Google Vertex AI project, which is needed to deploy the index"
      ],
      "metadata": {
        "id": "zh5Ey0tI8x71"
      },
      "execution_count": null,
      "outputs": []
    },
    {
      "cell_type": "code",
      "source": [
        "! gcloud compute networks create {NETWORK_NAME} --bgp-routing-mode=regional"
      ],
      "metadata": {
        "id": "0Frp1Q1U815v"
      },
      "execution_count": null,
      "outputs": []
    },
    {
      "cell_type": "code",
      "source": [
        "! gcloud compute firewall-rules create {NETWORK_NAME}-allow-icmp --network {NETWORK_NAME} --priority 65534 --project {PROJECT_ID} --allow icmp\n",
        "! gcloud compute firewall-rules create {NETWORK_NAME}-allow-internal --network {NETWORK_NAME} --priority 65534 --project {PROJECT_ID} --allow all --source-ranges 10.128.0.0/9\n",
        "! gcloud compute firewall-rules create {NETWORK_NAME}-allow-rdp --network {NETWORK_NAME} --priority 65534 --project {PROJECT_ID} --allow tcp:3389\n",
        "! gcloud compute firewall-rules create {NETWORK_NAME}-allow-ssh --network {NETWORK_NAME} --priority 65534 --project {PROJECT_ID} --allow tcp:22"
      ],
      "metadata": {
        "id": "aoPPHPFP833Z"
      },
      "execution_count": null,
      "outputs": []
    },
    {
      "cell_type": "code",
      "source": [
        "! gcloud compute addresses create {PEERING_RANGE_NAME} --global --prefix-length=16 --network={NETWORK_NAME} --purpose=VPC_PEERING --project={PROJECT_ID} --description=\"peering range for uCAIP Haystack.\""
      ],
      "metadata": {
        "id": "QJlV7gi_9xUW"
      },
      "execution_count": null,
      "outputs": []
    },
    {
      "cell_type": "code",
      "source": [
        "!gcloud services enable servicenetworking.googleapis.com --project=\"ot-demo\""
      ],
      "metadata": {
        "id": "Fatgj4HNQyAB"
      },
      "execution_count": null,
      "outputs": []
    },
    {
      "cell_type": "code",
      "source": [
        "! gcloud services vpc-peerings connect --service=servicenetworking.googleapis.com --network={NETWORK_NAME} --ranges={PEERING_RANGE_NAME}"
      ],
      "metadata": {
        "id": "XNmAooRtQNdo"
      },
      "execution_count": null,
      "outputs": []
    },
    {
      "cell_type": "code",
      "source": [
        "# Create a Google Cloud bucket: https://console.cloud.google.com/storage/browser in the same!!! region as your project\n",
        "# Copy your data.json from the notebook to the bucket, this can also be done from the interface\n",
        "# Data.json as of writing of this comment should be in the following format:\n",
        "# Every line should contain a valid JSON object with the properties 'id' with a string value and 'embedding' with an array value\n",
        "! gsutil cp data.json gs://ot-demox/matching-engine/data/text/data.json"
      ],
      "metadata": {
        "id": "mZtyN_msvHkF"
      },
      "execution_count": null,
      "outputs": []
    },
    {
      "cell_type": "code",
      "source": [
        "index = aiplatform.MatchingEngineIndex.create_tree_ah_index(\n",
        "    display_name=\"ot_index_display_name\",\n",
        "    contents_delta_uri=\"gs://ot-demo/matching-engine/data/text/\", # path to the data on the bucket\n",
        "    dimensions=768, # dimensions of the vector, make sure this matches the embedding model dimension you use\n",
        "    approximate_neighbors_count=150,\n",
        "    distance_measure_type=\"DOT_PRODUCT_DISTANCE\", # distance function your model uses, check this on huggingfaces for example\n",
        "    leaf_node_embedding_count=500,\n",
        "    leaf_nodes_to_search_percent=7,\n",
        "    description=\"description here\",\n",
        "    labels={\"label_name\": \"label_value\"},\n",
        ")"
      ],
      "metadata": {
        "id": "NfTrO_Sh_osB"
      },
      "execution_count": null,
      "outputs": []
    },
    {
      "cell_type": "code",
      "source": [
        "# check whether your index was created via this command or the interface\n",
        "!gcloud ai indexes list \\\n",
        "  --project=\"ot-demo\" \\\n",
        "  --region=\"us-central1\""
      ],
      "metadata": {
        "id": "kJnEzNthwH9c"
      },
      "execution_count": null,
      "outputs": []
    }
  ]
}